{
 "cells": [
  {
   "cell_type": "markdown",
   "metadata": {
    "collapsed": true
   },
   "source": [
    "# Main Question:\n",
    "    \n",
    "What are the relationships between different dimensions of the dataset, and whether a person survived the sinking of the Titanic or not?\n",
    "\n",
    "Specifically, I wanted to look at the effects of the following:\n",
    "\n",
    "\n",
    "* class\n",
    "\n",
    "\n",
    "* gender\n",
    "\n",
    "\n",
    "* age\n",
    "\n",
    "\n",
    "* family membership (whether a passenger had family members on board or not)\n",
    "\n",
    "If base sizes allow I may also look into the effects of combined variables (e.g. being a female of a certain class)\n"
   ]
  },
  {
   "cell_type": "markdown",
   "metadata": {
    "collapsed": true
   },
   "source": [
    "# Data Wrangling/Cleaning:\n",
    "\n",
    "I had to do the following to clean the data/get it into a usable format for the analysis I wanted to do:\n",
    "\n",
    "* **Change column names** - This was largely just to make the data more intuitive to work with for me.\n",
    "\n",
    "\n",
    "* **Remove na from age column**. I did this to get an idea of the base size I could expect for analysis based on age as some of the passengers had no entry for age. I also used it to create suitable bins to group the continuous age data by.\n",
    "\n",
    "\n",
    "* **Binning age data**. I felt the need to do this to allow me to look at how people in different age brackets fared with regards to survival. Here I used the pandas `qcut` method to split the data by age into equal sized bins. This yielded the following bin definitions: `[ 0.42,  19.  ,  25.  ,  31.8 ,  41.  ,  80.  ]`. From this I could tell that the youngest in the sample was 0.42, and the oldest was 80. I decided based on these definitions to add a column to the dataframe called `age_binned`, with passengers divided as follows: `['0-18', '18-25','25-30', '30-40', '40-80']`\n",
    "\n",
    "\n",
    "* I also wanted to look at family membership's effect on survival. For this I used the `groupby` function, so it wasn't necessary to actually change any of the underlying data structures.\n"
   ]
  },
  {
   "cell_type": "code",
   "execution_count": 7,
   "metadata": {},
   "outputs": [
    {
     "name": "stdout",
     "output_type": "stream",
     "text": [
      "\n",
      "survival rate overall\n",
      "survived\n",
      "0    549\n",
      "1    342\n",
      "dtype: int64\n"
     ]
    },
    {
     "data": {
      "image/png": "[encoded data removed]",
      "text/plain": [
       "<matplotlib.figure.Figure at 0x7fafb37dccd0>"
      ]
     },
     "metadata": {},
     "output_type": "display_data"
    },
    {
     "name": "stdout",
     "output_type": "stream",
     "text": [
      "\n",
      "titanic se_class split\n",
      "se_class\n",
      "1    216\n",
      "2    184\n",
      "3    491\n",
      "dtype: int64\n",
      "\n",
      "titanic survival by se_class\n",
      "se_class\n",
      "1    0.629630\n",
      "2    0.472826\n",
      "3    0.242363\n",
      "Name: survived, dtype: float64\n",
      "\n",
      "titanic sex split\n",
      "sex\n",
      "female    314\n",
      "male      577\n",
      "dtype: int64\n",
      "\n",
      "titanic survival by sex\n",
      "sex\n",
      "female    0.742038\n",
      "male      0.188908\n",
      "Name: survived, dtype: float64\n",
      "\n",
      "titanic without null ages base: \n",
      "714\n",
      "\n",
      "most equal equal age bin sizes\n",
      "['first', 'second', 'third', 'fourth', 'fifth']\n",
      "[  0.42  19.    25.    31.8   41.    80.  ]\n",
      "\n",
      "bin size counts - seem like reasonable bases\n",
      "first     164\n",
      "fourth    144\n",
      "fifth     142\n",
      "second    137\n",
      "third     127\n",
      "Name: age, dtype: int64\n",
      "\n",
      "titanic age_binned split\n",
      "age_binned\n",
      "0-18     139\n",
      "18-25    162\n",
      "25-30    108\n",
      "30-40    155\n",
      "40-80    150\n",
      "dtype: int64\n",
      "\n",
      "titanic survival by age_binned\n",
      "age_binned\n",
      "0-18     0.503597\n",
      "18-25    0.333333\n",
      "25-30    0.388889\n",
      "30-40    0.445161\n",
      "40-80    0.366667\n",
      "Name: survived, dtype: float64\n",
      "\n",
      "titanic part of family split\n",
      "False    537\n",
      "True     354\n",
      "dtype: int64\n",
      "\n",
      "titanic survival by part of family\n",
      "False    0.303538\n",
      "True     0.505650\n",
      "Name: survived, dtype: float64\n"
     ]
    }
   ],
   "source": [
    "# Data Exploration\n",
    "\n",
    "import numpy as np\n",
    "import pandas as pd\n",
    "import matplotlib.pyplot as plt\n",
    "\n",
    "titanic_df = pd.read_csv('./titanic-data.csv')\n",
    "\n",
    "# rename columns\n",
    "titanic_df.columns = ['passengerid', 'survived', 'se_class', 'name', 'sex', 'age', 'siblings_spouses_count', \\\n",
    "'parents_children_count', 'ticket', 'fare', 'cabin', 'embarcation_point']\n",
    "\n",
    "# show initial survival rates\n",
    "titanic_by_survived = titanic_df.groupby('survived')\n",
    "print '\\nsurvival rate overall'\n",
    "print titanic_by_survived.size()\n",
    "plt.plot(titanic_by_survived.size())\n",
    "plt.show()\n",
    "\n",
    "def survival_rate_by(data_frame, dimension):\n",
    "    data_frame_by_dimension = data_frame.groupby(dimension)\n",
    "    print '\\ntitanic ' + dimension + ' split'\n",
    "    print data_frame_by_dimension.size() \n",
    "    print '\\ntitanic survival by ' + dimension\n",
    "    print data_frame_by_dimension['survived'].mean()\n",
    "    return data_frame_by_dimension['survived'].mean()\n",
    "\n",
    "# se class survival basic analysis\n",
    "survival_rate_by(titanic_df, 'se_class')\n",
    "\n",
    "# gender survival basic analysis\n",
    "survival_rate_by(titanic_df, 'sex')\n",
    "\n",
    "# age survival basic analysis\n",
    "# remove null values from age. Base is still 714. Seems reasonable for analysis\n",
    "titanic_without_null_ages = titanic_df.dropna(subset=['age'])\n",
    "print '\\ntitanic without null ages base: '\n",
    "print len(titanic_without_null_ages )\n",
    "\n",
    "# used this to figure out a good split for bins. Those returned by qcut are [ 0.42,  19.  ,  25.  ,  31.8 ,  41.  ,  80.  ]\n",
    "titanic_age_equal_bin_labels = ['first', 'second', 'third', 'fourth', 'fifth']\n",
    "titanic_age_equal_bins = pd.qcut(titanic_without_null_ages['age'], q=5, retbins=True, labels=titanic_age_equal_bin_labels)\n",
    "print '\\nmost equal equal age bin sizes'\n",
    "print titanic_age_equal_bin_labels\n",
    "print titanic_age_equal_bins[1]\n",
    "titanic_age_equal_bins = pd.qcut(titanic_without_null_ages['age'], q=5, labels=titanic_age_equal_bin_labels)\n",
    "print '\\nbin size counts - seem like reasonable bases'\n",
    "print titanic_age_equal_bins.value_counts()\n",
    "\n",
    "# split ages into sensible bins based on above\n",
    "titanic_age_bins = [0, 18, 25, 30, 40, 80]\n",
    "titanic_age_bin_labels = ['0-18', '18-25','25-30', '30-40', '40-80']\n",
    "titanic_df['age_binned'] = pd.cut(titanic_without_null_ages['age'], titanic_age_bins, labels=titanic_age_bin_labels)\n",
    "\n",
    "titanic_by_age = titanic_df.groupby('age_binned')\n",
    "survival_rate_by(titanic_df, 'age_binned')\n",
    "\n",
    "# look at impact of being part of a family on survival\n",
    "def part_of_family(index):\n",
    "    if titanic_df.iloc[index]['siblings_spouses_count'] > 0 or titanic_df.iloc[index]['parents_children_count'] > 0:\n",
    "        return True\n",
    "    return False\n",
    "\n",
    "titanic_by_part_of_family = titanic_df.groupby(part_of_family)\n",
    "print '\\ntitanic part of family split'\n",
    "print titanic_by_part_of_family.size()\n",
    "print '\\ntitanic survival by part of family'\n",
    "print titanic_by_part_of_family['survived'].mean()"
   ]
  },
  {
   "cell_type": "markdown",
   "metadata": {},
   "source": [
    "# Data Exploration\n",
    "\n",
    "The code above shows how I explored the data, and shows the outputs of the analysis in tabular form. Hopefully the comments should be enough to give an indication of why I did things and what I was thinking. Below, I will use the data above to create plots and visualisations, to further support my eventual conclusions."
   ]
  },
  {
   "cell_type": "code",
   "execution_count": null,
   "metadata": {
    "collapsed": true
   },
   "outputs": [],
   "source": []
  }
 ],
 "metadata": {
  "kernelspec": {
   "display_name": "Python 2",
   "language": "python",
   "name": "python2"
  },
  "language_info": {
   "codemirror_mode": {
    "name": "ipython",
    "version": 2
   },
   "file_extension": ".py",
   "mimetype": "text/x-python",
   "name": "python",
   "nbconvert_exporter": "python",
   "pygments_lexer": "ipython2",
   "version": "2.7.13"
  }
 },
 "nbformat": 4,
 "nbformat_minor": 2
}
